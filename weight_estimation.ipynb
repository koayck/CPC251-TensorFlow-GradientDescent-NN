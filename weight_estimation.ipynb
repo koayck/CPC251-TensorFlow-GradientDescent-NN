{
 "cells": [
  {
   "cell_type": "markdown",
   "id": "2b9b28a8",
   "metadata": {},
   "source": [
    "#### Group Information\n",
    "\n",
    "Group No: \n",
    "\n",
    "- Member 1: Lai Yicheng\n",
    "- Member 2: Lee Ying Shen\n",
    "- Member 3: Lim Ting Juin\n",
    "- Member 4: Koay Chun Keat"
   ]
  },
  {
   "cell_type": "markdown",
   "id": "2c0a3c45",
   "metadata": {},
   "source": [
    "#### Import Libraries"
   ]
  },
  {
   "cell_type": "code",
   "execution_count": 1,
   "id": "79b84136",
   "metadata": {},
   "outputs": [
    {
     "name": "stdout",
     "output_type": "stream",
     "text": [
      "TensorFlow version: 2.16.1\n"
     ]
    }
   ],
   "source": [
    "import tensorflow as tf\n",
    "import pandas as pd\n",
    "import numpy as np\n",
    "from sklearn.metrics import confusion_matrix, classification_report\n",
    "from matplotlib import pyplot as plt\n",
    "print(\"TensorFlow version:\", tf.__version__)\n",
    "\n",
    "# Set a random seed for reproducible results \n",
    "tf.random.set_seed(42)"
   ]
  },
  {
   "cell_type": "markdown",
   "id": "5dceb4ff",
   "metadata": {},
   "source": [
    "#### Load the dataset"
   ]
  },
  {
   "cell_type": "code",
   "execution_count": 2,
   "id": "a83d38c1",
   "metadata": {},
   "outputs": [
    {
     "data": {
      "text/html": [
       "<div>\n",
       "<style scoped>\n",
       "    .dataframe tbody tr th:only-of-type {\n",
       "        vertical-align: middle;\n",
       "    }\n",
       "\n",
       "    .dataframe tbody tr th {\n",
       "        vertical-align: top;\n",
       "    }\n",
       "\n",
       "    .dataframe thead th {\n",
       "        text-align: right;\n",
       "    }\n",
       "</style>\n",
       "<table border=\"1\" class=\"dataframe\">\n",
       "  <thead>\n",
       "    <tr style=\"text-align: right;\">\n",
       "      <th></th>\n",
       "      <th>f1</th>\n",
       "      <th>f2</th>\n",
       "      <th>f3</th>\n",
       "      <th>f4</th>\n",
       "      <th>f5</th>\n",
       "      <th>label</th>\n",
       "    </tr>\n",
       "  </thead>\n",
       "  <tbody>\n",
       "    <tr>\n",
       "      <th>0</th>\n",
       "      <td>1.286233</td>\n",
       "      <td>15.643743</td>\n",
       "      <td>-1.879915</td>\n",
       "      <td>-11.294839</td>\n",
       "      <td>15.245472</td>\n",
       "      <td>0</td>\n",
       "    </tr>\n",
       "    <tr>\n",
       "      <th>1</th>\n",
       "      <td>2.853398</td>\n",
       "      <td>0.129878</td>\n",
       "      <td>17.620669</td>\n",
       "      <td>3.945204</td>\n",
       "      <td>8.157459</td>\n",
       "      <td>1</td>\n",
       "    </tr>\n",
       "    <tr>\n",
       "      <th>2</th>\n",
       "      <td>3.285310</td>\n",
       "      <td>3.176560</td>\n",
       "      <td>12.610554</td>\n",
       "      <td>-6.063613</td>\n",
       "      <td>1.831887</td>\n",
       "      <td>0</td>\n",
       "    </tr>\n",
       "    <tr>\n",
       "      <th>3</th>\n",
       "      <td>2.019516</td>\n",
       "      <td>-1.967793</td>\n",
       "      <td>9.306435</td>\n",
       "      <td>-0.938714</td>\n",
       "      <td>-1.203038</td>\n",
       "      <td>0</td>\n",
       "    </tr>\n",
       "    <tr>\n",
       "      <th>4</th>\n",
       "      <td>-2.326527</td>\n",
       "      <td>3.453234</td>\n",
       "      <td>13.855478</td>\n",
       "      <td>-5.236421</td>\n",
       "      <td>1.547216</td>\n",
       "      <td>0</td>\n",
       "    </tr>\n",
       "  </tbody>\n",
       "</table>\n",
       "</div>"
      ],
      "text/plain": [
       "         f1         f2         f3         f4         f5  label\n",
       "0  1.286233  15.643743  -1.879915 -11.294839  15.245472      0\n",
       "1  2.853398   0.129878  17.620669   3.945204   8.157459      1\n",
       "2  3.285310   3.176560  12.610554  -6.063613   1.831887      0\n",
       "3  2.019516  -1.967793   9.306435  -0.938714  -1.203038      0\n",
       "4 -2.326527   3.453234  13.855478  -5.236421   1.547216      0"
      ]
     },
     "execution_count": 2,
     "metadata": {},
     "output_type": "execute_result"
    }
   ],
   "source": [
    "ds = pd.read_csv('classification_dataset.csv')\n",
    "ds.head()"
   ]
  },
  {
   "cell_type": "markdown",
   "id": "7f0f56c6",
   "metadata": {},
   "source": [
    "#### Define the loss function"
   ]
  },
  {
   "cell_type": "code",
   "execution_count": 3,
   "id": "b4024775",
   "metadata": {},
   "outputs": [],
   "source": [
    "def loss_fn(y_true, y_pred):\n",
    "    \"\"\"\n",
    "    \n",
    "    This function calculates the loss function using binary cross-entropy/ negative log likelihood.\n",
    "\n",
    "    Parameters: y_true (float): The true labels, y_pred (float): The predicted labels\n",
    "\n",
    "    Returns: result (float): The loss value\n",
    "\n",
    "    \"\"\"\n",
    "\n",
    "    # add epsilon to prevent log(0)\n",
    "    epsilon = 1e-7\n",
    "    result = -tf.reduce_mean(y_true * tf.math.log(y_pred + epsilon) + (1 - y_true) * tf.math.log(1 - y_pred + epsilon))\n",
    "\n",
    "    return result"
   ]
  },
  {
   "cell_type": "markdown",
   "id": "753a2eca",
   "metadata": {},
   "source": [
    "#### Define function to perform prediction"
   ]
  },
  {
   "cell_type": "code",
   "execution_count": 4,
   "id": "bdbf2168",
   "metadata": {},
   "outputs": [],
   "source": [
    "def sigmoid(weighted_sum):\n",
    "    \"\"\"\n",
    "\n",
    "    This function calculates the sigmoid function.\n",
    "\n",
    "    Parameters: weighted_sum (float): The weighted sum of inputs.\n",
    "\n",
    "    Returns: result (float): The result of the sigmoid function.\n",
    "    \n",
    "    \"\"\"\n",
    "\n",
    "    result = 1 / (1 + tf.exp(-weighted_sum))\n",
    "    return result\n",
    "\n",
    "\n",
    "def relu(weighted_sum):\n",
    "    \"\"\"\n",
    "\n",
    "    This function calculates the ReLU function.\n",
    "\n",
    "    Parameters: weighted_sum (float): The weighted sum of the inputs and weights.\n",
    "\n",
    "    Returns: result (float): The result of the ReLU function.\n",
    "\n",
    "    \"\"\"\n",
    "\n",
    "    return tf.maximum(0.0, weighted_sum)\n",
    "\n",
    "\n",
    "# feedforward neural network (FNN)\n",
    "def forward(inputs, weights, biases):\n",
    "    \"\"\"\n",
    "\n",
    "    This function calculates the forward pass (predicts the label).\n",
    "\n",
    "    Parameters: inputs (list): The input features, weights (list): The weights of the neural network.\n",
    "\n",
    "    Returns: prediction (float): The probability of the sample belonging to the positive class.\n",
    "        \n",
    "    \"\"\"\n",
    "\n",
    "    weighted_sum_input = tf.matmul(inputs, weights[\"w_hidden\"]) + biases[\"b_hidden\"]\n",
    "    output_hidden_activation = relu(weighted_sum_input)\n",
    "\n",
    "    weighted_sum_activation = tf.matmul(output_hidden_activation, weights[\"w_output\"]) + biases[\"b_output\"]\n",
    "    prediction = sigmoid(weighted_sum_activation)\n",
    "\n",
    "    return prediction"
   ]
  },
  {
   "cell_type": "markdown",
   "id": "e7bc735b",
   "metadata": {},
   "source": [
    "#### Define function for model training\n",
    "Display the training and validation loss values for each epoch of the training loop. The displayed value must be in 6 decimal places.<br>\n",
    "Hint: <br>\n",
    "Use `tf.GradientTape` to compute the gradients."
   ]
  },
  {
   "cell_type": "code",
   "execution_count": 5,
   "id": "fe17ccc5",
   "metadata": {},
   "outputs": [],
   "source": [
    "def train(x_train, y_train, weights, biases, learning_rate):\n",
    "    \"\"\"\n",
    "\n",
    "    This function performs the forward pass, computes the gradient and update the weights and biases.\n",
    "\n",
    "    Parameters: x_train (list): The input features, y_true (float): The true label, weights (list): The weights of the neural network, biases (list): The biases of the neural network, learning_rate (float): The learning rate.\n",
    "\n",
    "    Returns: weights (list): loss (float): The loss value.\n",
    "\n",
    "    \"\"\"\n",
    "\n",
    "    with tf.GradientTape() as t:\n",
    "        # Perform the forward pass\n",
    "        y_pred = forward(x_train, weights, biases)\n",
    "        # Compute the loss\n",
    "        loss = loss_fn(y_train, y_pred)\n",
    "\n",
    "    # Perform the backward pass/ backprop\n",
    "\n",
    "    # 1. Compute the gradients\n",
    "    gradients = t.gradient(\n",
    "        loss,\n",
    "        [\n",
    "            weights[\"w_hidden\"],\n",
    "            biases[\"b_hidden\"],\n",
    "            weights[\"w_output\"],\n",
    "            biases[\"b_output\"],\n",
    "        ],\n",
    "    )\n",
    "\n",
    "    # 2. Update the weights and biases\n",
    "    weights[\"w_hidden\"].assign_sub(learning_rate * gradients[0])\n",
    "    biases[\"b_hidden\"].assign_sub(learning_rate * gradients[1])\n",
    "    weights[\"w_output\"].assign_sub(learning_rate * gradients[2])\n",
    "    biases[\"b_output\"].assign_sub(learning_rate * gradients[3])\n",
    "\n",
    "    return loss\n",
    "\n",
    "\n",
    "def fit(\n",
    "    x_train,\n",
    "    y_train,\n",
    "    x_valid,\n",
    "    y_valid,\n",
    "    weights,\n",
    "    biases,\n",
    "    learning_rate,\n",
    "    epochs=10,\n",
    "    batches=32,\n",
    "    patience=5,\n",
    "):\n",
    "    \"\"\"\n",
    "\n",
    "    This function implements the training loop.\n",
    "\n",
    "    Parameters: x_train (list): The input features for training, y_train (list): The true labels for training, x_valid (list): The input features for validation, y_valid (list): The true labels for validation, weights (list): The weights of the neural network, biases (list): The biases of the neural network, learning_rate (float): The learning rate, epochs (int): The number of epochs, batches (int): The number of batches, patience (int): The number of epochs to wait before early stopping.\n",
    "\n",
    "    Returns: train_losses (list): The training losses, valid_losses (list): The validation losses.\n",
    "\n",
    "    \"\"\"\n",
    "\n",
    "    train_losses = []\n",
    "    valid_losses = []\n",
    "    epochs_no_improve = 0\n",
    "    min_val_loss = np.inf\n",
    "\n",
    "    for i in range(epochs):\n",
    "        # Mini-batch gradient descent implementation for training\n",
    "        for j in range(0, len(x_train), batches):\n",
    "            x_train_batch = x_train[j : j + batches]\n",
    "            y_train_batch = y_train[j : j + batches]\n",
    "            train_loss = train(x_train_batch, y_train_batch, weights, biases, learning_rate)\n",
    "        train_losses.append(train_loss)\n",
    "\n",
    "        # Evaluate validation loss after each epoch to detect overfitting\n",
    "        y_pred = forward(x_valid, weights, biases)\n",
    "        valid_loss = loss_fn(y_valid, y_pred)\n",
    "        valid_losses.append(valid_loss)\n",
    "\n",
    "        # Early stopping regularization\n",
    "        if valid_losses[-1] < min_val_loss:\n",
    "            epochs_no_improve = 0\n",
    "            min_val_loss = valid_losses[-1]\n",
    "        else:\n",
    "            epochs_no_improve += 1\n",
    "            if epochs_no_improve == patience:\n",
    "                print(f\"Early stopping at epoch {i}\")\n",
    "                break\n",
    "\n",
    "        # format the loss to 6 decimal places\n",
    "        formatted_train_loss = f\"{train_losses[-1]:.6f}\"\n",
    "        formatted_valid_loss = f\"{valid_losses[-1]:.6f}\"\n",
    "        print(\n",
    "            f\"Epoch: {i}, Train Loss: {formatted_train_loss}, Validation Loss: {formatted_valid_loss}\"\n",
    "        )\n",
    "\n",
    "    return train_losses, valid_losses"
   ]
  },
  {
   "cell_type": "markdown",
   "id": "28f45213",
   "metadata": {},
   "source": [
    "#### Define the tensors to hold the weights and biases (create the model)\n",
    "Hint: <br>\n",
    "Use `tf.Variable` to create the tensors.<br>\n",
    "Put the tensors in a list."
   ]
  },
  {
   "cell_type": "code",
   "execution_count": 6,
   "id": "a2e2172b",
   "metadata": {},
   "outputs": [],
   "source": [
    "ds_tf = tf.Variable(ds)\n",
    "ds_tf\n",
    "\n",
    "np.random.seed(42)\n",
    "\n",
    "num_input_nodes = 5\n",
    "num_hidden_nodes = 5\n",
    "num_output_nodes = 1\n",
    "\n",
    "weights = {\n",
    "  \"w_hidden\": tf.Variable(np.random.randn(num_input_nodes, num_hidden_nodes)),  # Weight matrix for hidden layer\n",
    "  \"w_output\": tf.Variable(np.random.randn(num_hidden_nodes, num_output_nodes)),  # Weight matrix for output layer\n",
    "}\n",
    "\n",
    "biases = {\n",
    "  \"b_hidden\": tf.Variable(np.random.randn(1,num_hidden_nodes)),  # Bias vector for hidden layer\n",
    "  \"b_output\": tf.Variable(np.random.randn(num_output_nodes)),  # Bias vector for output layer\n",
    "}"
   ]
  },
  {
   "cell_type": "markdown",
   "id": "176badb8",
   "metadata": {},
   "source": [
    "#### Split the dataset\n",
    "The ratio of training and test is 7:1:2."
   ]
  },
  {
   "cell_type": "code",
   "execution_count": 7,
   "id": "5fa1b9b6",
   "metadata": {},
   "outputs": [],
   "source": [
    "ds_shuffle = tf.random.shuffle(ds_tf, seed=42) # shuffle the dataset\n",
    "train_size = int(0.7 * len(ds))\n",
    "valid_size = int(0.1 * len(ds))\n",
    "test_size = int(0.2 * len(ds))\n",
    "train_data, valid_data, test_data = ds_shuffle[:train_size], ds_shuffle[train_size:train_size + valid_size], ds_shuffle[train_size + valid_size:]\n",
    "\n",
    "x_train, y_train = train_data[:, :-1], train_data[:, -1]\n",
    "x_valid, y_valid = valid_data[:, :-1], valid_data[:, -1]\n",
    "x_test, y_test = test_data[:, :-1], test_data[:, -1]"
   ]
  },
  {
   "cell_type": "markdown",
   "id": "c3c4d6cf",
   "metadata": {},
   "source": [
    "#### Normalize the data"
   ]
  },
  {
   "cell_type": "code",
   "execution_count": 8,
   "id": "f689b7c6",
   "metadata": {},
   "outputs": [],
   "source": [
    "norm_x_train = (x_train - tf.reduce_mean(x_train, axis=0)) / tf.math.reduce_std(x_train, axis=0)\n",
    "norm_x_valid = (x_valid - tf.reduce_mean(x_valid, axis=0)) / tf.math.reduce_std(x_valid, axis=0)\n",
    "norm_x_test = (x_test - tf.reduce_mean(x_test, axis=0)) / tf.math.reduce_std(x_test, axis=0)"
   ]
  },
  {
   "cell_type": "markdown",
   "id": "b1a2e7d6",
   "metadata": {},
   "source": [
    "#### Train the model"
   ]
  },
  {
   "cell_type": "code",
   "execution_count": 9,
   "id": "6304c496",
   "metadata": {},
   "outputs": [
    {
     "name": "stdout",
     "output_type": "stream",
     "text": [
      "Epoch: 0, Train Loss: 1.673174, Validation Loss: 1.797552\n",
      "Epoch: 1, Train Loss: 1.343956, Validation Loss: 1.433993\n",
      "Epoch: 2, Train Loss: 1.067839, Validation Loss: 1.129399\n",
      "Epoch: 3, Train Loss: 0.876396, Validation Loss: 0.925149\n",
      "Epoch: 4, Train Loss: 0.784223, Validation Loss: 0.834318\n",
      "Epoch: 5, Train Loss: 0.749086, Validation Loss: 0.800669\n",
      "Epoch: 6, Train Loss: 0.734922, Validation Loss: 0.785556\n",
      "Epoch: 7, Train Loss: 0.727893, Validation Loss: 0.776406\n",
      "Epoch: 8, Train Loss: 0.723534, Validation Loss: 0.769560\n",
      "Epoch: 9, Train Loss: 0.720348, Validation Loss: 0.763861\n",
      "Epoch: 10, Train Loss: 0.717776, Validation Loss: 0.758869\n",
      "Epoch: 11, Train Loss: 0.715596, Validation Loss: 0.754418\n",
      "Epoch: 12, Train Loss: 0.713689, Validation Loss: 0.750436\n",
      "Epoch: 13, Train Loss: 0.711997, Validation Loss: 0.746800\n",
      "Epoch: 14, Train Loss: 0.710487, Validation Loss: 0.743472\n",
      "Epoch: 15, Train Loss: 0.709125, Validation Loss: 0.740423\n",
      "Epoch: 16, Train Loss: 0.707857, Validation Loss: 0.737622\n",
      "Epoch: 17, Train Loss: 0.706712, Validation Loss: 0.735058\n",
      "Epoch: 18, Train Loss: 0.705680, Validation Loss: 0.732713\n",
      "Epoch: 19, Train Loss: 0.704746, Validation Loss: 0.730561\n",
      "Epoch: 20, Train Loss: 0.703897, Validation Loss: 0.728581\n",
      "Epoch: 21, Train Loss: 0.703127, Validation Loss: 0.726760\n",
      "Epoch: 22, Train Loss: 0.702424, Validation Loss: 0.725071\n",
      "Epoch: 23, Train Loss: 0.701786, Validation Loss: 0.723508\n",
      "Epoch: 24, Train Loss: 0.701204, Validation Loss: 0.722067\n",
      "Epoch: 25, Train Loss: 0.700673, Validation Loss: 0.720734\n",
      "Epoch: 26, Train Loss: 0.700188, Validation Loss: 0.719500\n",
      "Epoch: 27, Train Loss: 0.699742, Validation Loss: 0.718355\n",
      "Epoch: 28, Train Loss: 0.699333, Validation Loss: 0.717293\n",
      "Epoch: 29, Train Loss: 0.698957, Validation Loss: 0.716308\n"
     ]
    }
   ],
   "source": [
    "# Train the model\n",
    "train_losses, valid_losses = fit(norm_x_train, y_train, norm_x_valid, y_valid, weights, biases, learning_rate=0.01, epochs=30, batches=32, patience=3)"
   ]
  },
  {
   "cell_type": "markdown",
   "id": "45c41885",
   "metadata": {},
   "source": [
    "#### Display the training loss and validation loss against epoch graph"
   ]
  },
  {
   "cell_type": "code",
   "execution_count": 10,
   "id": "47f05472",
   "metadata": {},
   "outputs": [
    {
     "data": {
      "image/png": "[encoded data removed]",
      "text/plain": [
       "<Figure size 640x480 with 1 Axes>"
      ]
     },
     "metadata": {},
     "output_type": "display_data"
    }
   ],
   "source": [
    "plt.plot(train_losses, label=\"Train Loss\")\n",
    "plt.plot(valid_losses, label=\"Validation Loss\")\n",
    "plt.title(\"Training and Validation Loss\")\n",
    "plt.xlabel(\"Epoch\")\n",
    "plt.ylabel(\"Loss\")\n",
    "plt.legend()\n",
    "plt.show()"
   ]
  },
  {
   "cell_type": "markdown",
   "id": "0c0b4c38",
   "metadata": {},
   "source": [
    "#### Predict the test set"
   ]
  },
  {
   "cell_type": "code",
   "execution_count": 11,
   "id": "a84f73b1",
   "metadata": {},
   "outputs": [],
   "source": [
    "y_pred = forward(norm_x_test, weights, biases)"
   ]
  },
  {
   "cell_type": "markdown",
   "id": "20d715ef",
   "metadata": {},
   "source": [
    "#### Display the confusion matrix and the classification report"
   ]
  },
  {
   "cell_type": "code",
   "execution_count": 12,
   "id": "c35deeb3",
   "metadata": {},
   "outputs": [
    {
     "name": "stdout",
     "output_type": "stream",
     "text": [
      "[[74 27]\n",
      " [78 21]]\n",
      "              precision    recall  f1-score   support\n",
      "\n",
      "         0.0       0.49      0.73      0.58       101\n",
      "         1.0       0.44      0.21      0.29        99\n",
      "\n",
      "    accuracy                           0.48       200\n",
      "   macro avg       0.46      0.47      0.44       200\n",
      "weighted avg       0.46      0.47      0.44       200\n",
      "\n"
     ]
    }
   ],
   "source": [
    "# assuming threshold is 0.5 and positive class is 1\n",
    "y_pred = tf.where(y_pred > 0.5, 1, 0)\n",
    "print(confusion_matrix(y_test, y_pred))\n",
    "print(classification_report(y_test, y_pred))"
   ]
  }
 ],
 "metadata": {
  "kernelspec": {
   "display_name": "Python 3 (ipykernel)",
   "language": "python",
   "name": "python3"
  },
  "language_info": {
   "codemirror_mode": {
    "name": "ipython",
    "version": 3
   },
   "file_extension": ".py",
   "mimetype": "text/x-python",
   "name": "python",
   "nbconvert_exporter": "python",
   "pygments_lexer": "ipython3",
   "version": "3.11.2"
  }
 },
 "nbformat": 4,
 "nbformat_minor": 5
}
