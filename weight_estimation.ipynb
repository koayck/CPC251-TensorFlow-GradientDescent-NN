{
 "cells": [
  {
   "cell_type": "markdown",
   "id": "2b9b28a8",
   "metadata": {},
   "source": [
    "#### Group Information\n",
    "\n",
    "Group No: \n",
    "\n",
    "- Member 1: Lai Yicheng\n",
    "- Member 2: Lee Ying Shen\n",
    "- Member 3: Lim Ting Juin\n",
    "- Member 4: Koay Chun Keat"
   ]
  },
  {
   "cell_type": "markdown",
   "id": "2c0a3c45",
   "metadata": {},
   "source": [
    "#### Import Libraries"
   ]
  },
  {
   "cell_type": "code",
   "execution_count": 25,
   "id": "79b84136",
   "metadata": {},
   "outputs": [
    {
     "name": "stdout",
     "output_type": "stream",
     "text": [
      "TensorFlow version: 2.16.1\n"
     ]
    }
   ],
   "source": [
    "import tensorflow as tf\n",
    "import pandas as pd\n",
    "import numpy as np\n",
    "import matplotlib\n",
    "from matplotlib import pyplot as plt\n",
    "print(\"TensorFlow version:\", tf.__version__)\n",
    "\n",
    "# Set a random seed for reproducible results \n",
    "tf.random.set_seed(42)"
   ]
  },
  {
   "cell_type": "markdown",
   "id": "5dceb4ff",
   "metadata": {},
   "source": [
    "#### Load the dataset"
   ]
  },
  {
   "cell_type": "code",
   "execution_count": 127,
   "id": "a83d38c1",
   "metadata": {},
   "outputs": [
    {
     "data": {
      "text/plain": [
       "(500, 500)"
      ]
     },
     "execution_count": 127,
     "metadata": {},
     "output_type": "execute_result"
    }
   ],
   "source": [
    "ds = pd.read_csv('classification_dataset.csv')\n",
    "ds.head()\n",
    "\n",
    "len(ds[ds['label'] == 1]), len(ds[ds['label'] == 0])"
   ]
  },
  {
   "cell_type": "code",
   "execution_count": null,
   "id": "9ba2d39c",
   "metadata": {},
   "outputs": [],
   "source": [
    "for i in range(len(ds.columns[:-1])):\n",
    "  label = ds.columns[i]\n",
    "  plt.hist(ds[ds['label'] == 1][label], color=\"blue\", label=\"Positive\")\n",
    "  plt.hist(ds[ds['label'] == 0][label], color=\"red\", label=\"Negative\")\n",
    "  plt.title(label)\n",
    "  plt.ylabel(\"Frequency\")\n",
    "  plt.xlabel(label)\n",
    "  plt.legend()\n",
    "  plt.show()"
   ]
  },
  {
   "cell_type": "markdown",
   "id": "7f0f56c6",
   "metadata": {},
   "source": [
    "#### Define the loss function"
   ]
  },
  {
   "cell_type": "code",
   "execution_count": 191,
   "id": "b4024775",
   "metadata": {},
   "outputs": [],
   "source": [
    "def loss_fn(y_true, y_pred):\n",
    "    \"\"\"\n",
    "    This function calculates the loss function\n",
    "    \"\"\"\n",
    "    # return 0.5 * tf.reduce_mean(tf.square(y_true - y_pred)) # equivalent to formula (1/2m) * sum((y_true - y_predict)^2)\n",
    "    return -y_true * np.log(y_pred) + (1 - y_true) * np.log(1 - y_pred)\n"
   ]
  },
  {
   "cell_type": "markdown",
   "id": "753a2eca",
   "metadata": {},
   "source": [
    "#### Define function to perform prediction"
   ]
  },
  {
   "cell_type": "code",
   "execution_count": 444,
   "id": "bdbf2168",
   "metadata": {},
   "outputs": [],
   "source": [
    "def sigmoid(weighted_sum):\n",
    "    \"\"\"\n",
    "    This function calculates the sigmoid function.\n",
    "\n",
    "    Parameters: weighted_sum (float): The weighted sum of inputs.\n",
    "\n",
    "    Returns: result (float): The result of the sigmoid function.\n",
    "    \"\"\"\n",
    "    result = 1 / (1 + tf.exp(-weighted_sum))\n",
    "    return result\n",
    "\n",
    "\n",
    "def relu(weighted_sum):\n",
    "    \"\"\"\n",
    "    This function calculates the ReLU function.\n",
    "\n",
    "    Parameters: weighted_sum (float): The weighted sum of the inputs and weights.\n",
    "\n",
    "    Returns: result (float): The result of the ReLU function.\n",
    "    \"\"\"\n",
    "    return tf.maximum(0.0, weighted_sum)\n",
    "\n",
    "\n",
    "# feedforward neural network (FNN)\n",
    "def forward(inputs, weights, biases):\n",
    "    \"\"\"\n",
    "    This function calculates the forward pass (predicts the label).\n",
    "\n",
    "    Parameters: inputs (list): The input features, weights (list): The weights of the neural network.\n",
    "\n",
    "    Returns: prediction (float): The predicted label.\n",
    "    \"\"\"\n",
    "\n",
    "    weighted_sum_input = np.dot(weights[\"w_hidden\"], inputs) + biases[\"b_hidden\"]\n",
    "    # print(\"weightedsuminput: \", weighted_sum_input)\n",
    "    output_hidden_activation = relu(weighted_sum_input)\n",
    "    # print(\"hiddenactivation: \", output_hidden_activation)\n",
    "\n",
    "    weighted_sum_activation = tf.reduce_sum(tf.multiply(weights[\"w_output\"], output_hidden_activation)) + biases[\"b_output\"]\n",
    "    # print(\"weightedsumactivation: \", weighted_sum_activation)\n",
    "    prediction = sigmoid(weighted_sum_activation)\n",
    "    # print(\"prediction:\", prediction)\n",
    "\n",
    "    return prediction, weighted_sum_activation, output_hidden_activation, weighted_sum_input"
   ]
  },
  {
   "cell_type": "markdown",
   "id": "e7bc735b",
   "metadata": {},
   "source": [
    "#### Define function for model training\n",
    "Display the training and validation loss values for each epoch of the training loop. The displayed value must be in 6 decimal places.<br>\n",
    "Hint: <br>\n",
    "Use `tf.GradientTape` to compute the gradients."
   ]
  },
  {
   "cell_type": "code",
   "execution_count": 451,
   "id": "fe17ccc5",
   "metadata": {},
   "outputs": [],
   "source": [
    "def train(x_train, y_train, weights, biases, learning_rate):\n",
    "    \"\"\"\n",
    "    This function performs the forward pass, computes the gradient and update the weights and biases.\n",
    "\n",
    "    Parameters: x_train (list): The input features, y_true (float): The true label, weights (list): The weights of the neural network, biases (list): The biases of the neural network, learning_rate (float): The learning rate.\n",
    "\n",
    "    Returns: weights (list): The updated weights, biases (list): The updated biases, loss (float): The loss value.\n",
    "    \"\"\"\n",
    "\n",
    "    # Perform the forward pass\n",
    "    y_pred, weighted_sum_activation, output_hidden_activation, weighted_sum_input = forward(\n",
    "        x_train, weights, biases\n",
    "    )\n",
    "\n",
    "    # Compute the loss\n",
    "    loss = loss_fn(y_train, y_pred)\n",
    "\n",
    "    # Perform the backward pass/ backprop\n",
    "    y_pred = tf.Variable(y_pred)\n",
    "    y_true = tf.Variable(y_train)\n",
    "    weighted_sum_activation = tf.Variable(weighted_sum_activation)\n",
    "    output_hidden_activation = tf.Variable(output_hidden_activation)\n",
    "    weighted_sum_input = tf.Variable(weighted_sum_input)\n",
    "    weights[\"w_output\"] = tf.Variable(weights[\"w_output\"])\n",
    "    biases[\"b_output\"] = tf.Variable(biases[\"b_output\"])\n",
    "    weights[\"w_hidden\"] = tf.Variable(weights[\"w_hidden\"])\n",
    "    biases[\"b_hidden\"] = tf.Variable(biases[\"b_hidden\"])\n",
    "\n",
    "    dJ_dw = {\n",
    "    \"dJ_dw_hidden\": np.zeros((5, 5)),\n",
    "    \"dJ_dw_output\": np.zeros((1, 5)),\n",
    "    }\n",
    "\n",
    "    dJ_db = {\n",
    "    \"dJ_db_hidden\": np.zeros(5),\n",
    "    \"dJ_db_output\": np.zeros(1),\n",
    "    }\n",
    "\n",
    "    # 1. Compute the gradients\n",
    "    with tf.GradientTape(persistent=True) as t:\n",
    "        t.watch(y_pred)\n",
    "        t.watch(y_true)\n",
    "        t.watch(weighted_sum_activation)\n",
    "        t.watch(output_hidden_activation)\n",
    "        t.watch(weighted_sum_input)\n",
    "        t.watch(weights[\"w_output\"])\n",
    "        t.watch(biases[\"b_output\"])\n",
    "        t.watch(weights[\"w_hidden\"])\n",
    "        t.watch(biases[\"b_hidden\"])\n",
    "\n",
    "        # a) compute gradient for weights\n",
    "        # a)i) compute gradient for weights for output layer\n",
    "\n",
    "        # J --> y_pred --> weighted_sum_activation --> w[output] ( affected by the following )\n",
    "        # dJ_dw[output] = d(J)_d(y_pred) * d(y_pred)_d(weighted_sum_activation) * d(weighted_sum_activation)_d(w[output])\n",
    "\n",
    "        J = -y_true * tf.math.log(y_pred) - (1 - y_true) * tf.math.log(1 - y_pred)\n",
    "        dJ_dy_pred = t.gradient(J, y_pred)\n",
    "        # print(\"dJ_dy_pred: \", dJ_dy_pred)\n",
    "\n",
    "        y_pred = 1 / (1 + tf.exp(-weighted_sum_activation))\n",
    "        dy_pred_dweighted_sum_activation = t.gradient(y_pred, weighted_sum_activation)\n",
    "        # print(\"dy_pred_dweighted_sum_activation: \", dy_pred_dweighted_sum_activation)\n",
    "\n",
    "        weighted_sum_activation = (\n",
    "            weights[\"w_output\"] * output_hidden_activation + biases[\"b_output\"]\n",
    "        )\n",
    "        dweighted_sum_activation_dw = t.gradient(\n",
    "            weighted_sum_activation, weights[\"w_output\"]\n",
    "        )\n",
    "        # print(\"dweighted_sum_activation_dw: \", dweighted_sum_activation_dw)\n",
    "\n",
    "        dJ_dw[\"dJ_dw_output\"] = (\n",
    "            dJ_dy_pred * dy_pred_dweighted_sum_activation * dweighted_sum_activation_dw\n",
    "        )\n",
    "\n",
    "        # print(\"dJ_dw_output: \", dJ_dw[\"dJ_dw_output\"])\n",
    "\n",
    "        # a)ii) compute gradient for weights for hidden layer\n",
    "\n",
    "        # J --> y_pred --> weighted_sum_activation --> w[output] --> weighted_sum_input --> w[hidden] ( affected by the following )\n",
    "        # dJ_dw[hidden] = d(J)_d(y_pred) * d(y_pred)_d(weighted_sum_activation) * d(weighted_sum_activation)_d(w[output]) * d(weighted_sum_input)_d(w[hidden])\n",
    "\n",
    "        output_hidden_activation = tf.maximum(0.0, weighted_sum_input)\n",
    "        doutput_hidden_activation_dweighted_sum_input = t.gradient(\n",
    "            output_hidden_activation, weighted_sum_input\n",
    "        )\n",
    "        # print(\"doutput_hidden_activation_dweighted_sum_input: \", doutput_hidden_activation_dweighted_sum_input)\n",
    "\n",
    "        # print shape and datatype\n",
    "        # print(\"x_train: \", x_train)\n",
    "        # print(\"weights[w_hidden]: \", weights[\"w_hidden\"])\n",
    "        # print(\"biases[b_hidden]: \", biases[\"b_hidden\"])\n",
    "        weighted_sum_input = weights[\"w_hidden\"] * x_train + biases[\"b_hidden\"]\n",
    "        dweighted_sum_input_dw = t.gradient(weighted_sum_input, weights[\"w_hidden\"])\n",
    "        # print(\"dweighted_sum_input_dw: \", dweighted_sum_input_dw)\n",
    "\n",
    "        dJ_dw[\"dJ_dw_hidden\"] = (\n",
    "            dJ_dw[\"dJ_dw_output\"]\n",
    "            * doutput_hidden_activation_dweighted_sum_input\n",
    "            * dweighted_sum_input_dw\n",
    "        )\n",
    "        \n",
    "        # print(\"dJ_dw_hidden: \", dJ_dw[\"dJ_dw_hidden\"])\n",
    "\n",
    "        # b) compute gradient for biases\n",
    "        # b)i) compute gradient for biases for output layer\n",
    "\n",
    "        # J --> y_pred --> weighted_sum_activation --> b[output] ( affected by the following )\n",
    "        # dJ_db[output] = d(J)_d(y_pred) * d(y_pred)_d(weighted_sum_activation) * d(weighted_sum_activation)_d(b[output])\n",
    "\n",
    "        dweighted_sum_activation_db = t.gradient(weighted_sum_activation, biases[\"b_output\"])\n",
    "        # print(\"dweighted_sum_activation_db: \", dweighted_sum_activation_db)\n",
    "\n",
    "        dJ_db[\"dJ_db_output\"] = dJ_dy_pred * dy_pred_dweighted_sum_activation * dweighted_sum_activation_db\n",
    "        # print(\"dJ_db_output: \", dJ_db[\"dJ_db_output\"])\n",
    "\n",
    "        # b)i) compute gradient for biases for hidden layer\n",
    "\n",
    "        # J --> y_pred --> weighted_sum_activation --> w[output] --> weighted_sum_input --> b[hidden] ( affected by the following )\n",
    "        # dJ_db[hidden] = d(J)_d(y_pred) * d(y_pred)_d(weighted_sum_activation) * d(weighted_sum_activation)_d(w[output]) * d(weighted_sum_input)_d(b[hidden])\n",
    "\n",
    "        dweighted_sum_input_db = t.gradient(weighted_sum_input, biases[\"b_hidden\"])\n",
    "        # print(\"dweighted_sum_input_db: \", dweighted_sum_input_db)\n",
    "\n",
    "        dJ_db[\"dJ_db_hidden\"] = dJ_dw[\"dJ_dw_output\"] * doutput_hidden_activation_dweighted_sum_input * dweighted_sum_input_db\n",
    "        # print(\"dJ_db_hidden: \", dJ_db[\"dJ_db_hidden\"])\n",
    "\n",
    "    # 2. Update the weights and biases\n",
    "    # print(\"weights[w_hidden]: \", weights[\"w_hidden\"])\n",
    "    # print(\"learning_rate: \", learning_rate)\n",
    "    # print(\"dJ_dw[dJ_dw_hidden]: \", dJ_dw[\"dJ_dw_hidden\"])\n",
    "    weights[\"w_hidden\"] = weights[\"w_hidden\"] - tf.cast(learning_rate, dtype=tf.float64) * dJ_dw[\"dJ_dw_hidden\"]\n",
    "    weights[\"w_output\"] = weights[\"w_output\"] - tf.cast(learning_rate, dtype=tf.float64) * dJ_dw[\"dJ_dw_output\"]\n",
    "    biases[\"b_hidden\"] = biases[\"b_hidden\"] - tf.cast(learning_rate, dtype=tf.float64) * dJ_db[\"dJ_db_hidden\"]\n",
    "    biases[\"b_output\"] = biases[\"b_output\"] - tf.cast(learning_rate, dtype=tf.float64) * dJ_db[\"dJ_db_output\"]\n",
    "\n",
    "    return weights, biases, loss\n",
    "\n",
    "def fit(x_train, y_train, weights, biases, learning_rate, epochs=10):\n",
    "    \"\"\"\n",
    "\n",
    "    This function implements the training loop.\n",
    "\n",
    "    \"\"\"\n",
    "\n",
    "    losses = []\n",
    "\n",
    "    for i in range(epochs):\n",
    "        for j in range(len(x_train)):\n",
    "            x_train_row = x_train[j]\n",
    "            y_train_row = y_train[j]\n",
    "            weights, biases, loss = train(\n",
    "                x_train_row, y_train_row, weights, biases, learning_rate\n",
    "            )\n",
    "            losses.append(loss)\n",
    "        \n",
    "        # show loss in 6 decimal places\n",
    "        formatted_loss = f\"{loss[0]:.6f}\"\n",
    "        print(f\"Epoch: {i}, Loss: {formatted_loss}\")\n",
    "    \n",
    "    return weights, biases, losses"
   ]
  },
  {
   "cell_type": "markdown",
   "id": "28f45213",
   "metadata": {},
   "source": [
    "#### Define the tensors to hold the weights and biases (create the model)\n",
    "Hint: <br>\n",
    "Use `tf.Variable` to create the tensors.<br>\n",
    "Put the tensors in a list."
   ]
  },
  {
   "cell_type": "code",
   "execution_count": 430,
   "id": "a2e2172b",
   "metadata": {},
   "outputs": [],
   "source": [
    "ds_tf = tf.Variable(ds)\n",
    "ds_tf\n",
    "\n",
    "# Example weights (randomly initialized)\n",
    "np.random.seed(42)\n",
    "\n",
    "weights = {\n",
    "  \"w_hidden\": tf.Variable(np.random.randn(5, 5)),  # Weight matrix for hidden layer\n",
    "  \"w_output\": tf.Variable(np.random.randn(1, 5)),  # Weight matrix for output layer\n",
    "}\n",
    "\n",
    "biases = {\n",
    "  \"b_hidden\": tf.Variable(np.random.randn(1,5)),  # Bias vector for hidden layer\n",
    "  \"b_output\": tf.Variable(np.random.randn(1)),  # Bias vector for output layer\n",
    "}\n",
    "\n",
    "learning_rate = tf.constant(0.01)"
   ]
  },
  {
   "cell_type": "markdown",
   "id": "176badb8",
   "metadata": {},
   "source": [
    "#### Split the dataset\n",
    "The ratio of training and test is 7:1:2."
   ]
  },
  {
   "cell_type": "code",
   "execution_count": 378,
   "id": "5fa1b9b6",
   "metadata": {},
   "outputs": [],
   "source": [
    "# Split the given dataset into three training, validation and test with a ratio of 7:1:2.\n",
    "ds_shuffle = tf.random.shuffle(ds_tf, seed=42)\n",
    "train_data, valid_data, test_data = ds_shuffle[:700], ds_shuffle[700:800], ds_shuffle[800:]\n",
    "\n",
    "x_train, y_train = train_data[:, :-1], train_data[:, -1]\n",
    "x_valid, y_valid = valid_data[:, :-1], valid_data[:, -1]\n",
    "x_test, y_test = test_data[:, :-1], test_data[:, -1]"
   ]
  },
  {
   "cell_type": "markdown",
   "id": "c3c4d6cf",
   "metadata": {},
   "source": [
    "#### Normalize the data"
   ]
  },
  {
   "cell_type": "code",
   "execution_count": 379,
   "id": "f689b7c6",
   "metadata": {},
   "outputs": [],
   "source": [
    "norm_x_train = (x_train - tf.reduce_mean(x_train, axis=0)) / tf.math.reduce_std(x_train, axis=0)\n",
    "norm_x_valid = (x_valid - tf.reduce_mean(x_valid, axis=0)) / tf.math.reduce_std(x_valid, axis=0)\n",
    "norm_x_test = (x_test - tf.reduce_mean(x_test, axis=0)) / tf.math.reduce_std(x_test, axis=0)"
   ]
  },
  {
   "cell_type": "markdown",
   "id": "b1a2e7d6",
   "metadata": {},
   "source": [
    "#### Train the model"
   ]
  },
  {
   "cell_type": "code",
   "execution_count": 452,
   "id": "6304c496",
   "metadata": {},
   "outputs": [
    {
     "name": "stdout",
     "output_type": "stream",
     "text": [
      "Epoch: 1, Loss: 0.135067\n"
     ]
    },
    {
     "ename": "KeyboardInterrupt",
     "evalue": "",
     "output_type": "error",
     "traceback": [
      "\u001b[1;31m---------------------------------------------------------------------------\u001b[0m",
      "\u001b[1;31mKeyboardInterrupt\u001b[0m                         Traceback (most recent call last)",
      "\u001b[1;32m~\\AppData\\Local\\Temp\\ipykernel_18780\\2056319264.py\u001b[0m in \u001b[0;36m?\u001b[1;34m()\u001b[0m\n\u001b[0;32m      1\u001b[0m \u001b[1;31m# Train the model\u001b[0m\u001b[1;33m\u001b[0m\u001b[1;33m\u001b[0m\u001b[0m\n\u001b[1;32m----> 2\u001b[1;33m \u001b[0mweights\u001b[0m\u001b[1;33m,\u001b[0m \u001b[0mbiases\u001b[0m\u001b[1;33m,\u001b[0m \u001b[0mtrain_losses\u001b[0m \u001b[1;33m=\u001b[0m \u001b[0mfit\u001b[0m\u001b[1;33m(\u001b[0m\u001b[0mnorm_x_train\u001b[0m\u001b[1;33m,\u001b[0m \u001b[0my_train\u001b[0m\u001b[1;33m,\u001b[0m \u001b[0mweights\u001b[0m\u001b[1;33m,\u001b[0m \u001b[0mbiases\u001b[0m\u001b[1;33m,\u001b[0m \u001b[0mlearning_rate\u001b[0m\u001b[1;33m,\u001b[0m \u001b[1;36m10\u001b[0m\u001b[1;33m)\u001b[0m\u001b[1;33m\u001b[0m\u001b[1;33m\u001b[0m\u001b[0m\n\u001b[0m\u001b[0;32m      3\u001b[0m \u001b[1;33m\u001b[0m\u001b[0m\n\u001b[0;32m      4\u001b[0m \u001b[1;31m# Validate the model\u001b[0m\u001b[1;33m\u001b[0m\u001b[1;33m\u001b[0m\u001b[0m\n\u001b[0;32m      5\u001b[0m \u001b[0m_\u001b[0m\u001b[1;33m,\u001b[0m\u001b[0m_\u001b[0m\u001b[1;33m,\u001b[0m \u001b[0mvalid_losses\u001b[0m \u001b[1;33m=\u001b[0m \u001b[0mfit\u001b[0m\u001b[1;33m(\u001b[0m\u001b[0mnorm_x_valid\u001b[0m\u001b[1;33m,\u001b[0m \u001b[0my_valid\u001b[0m\u001b[1;33m,\u001b[0m \u001b[0mweights\u001b[0m\u001b[1;33m,\u001b[0m \u001b[0mbiases\u001b[0m\u001b[1;33m,\u001b[0m \u001b[0mlearning_rate\u001b[0m\u001b[1;33m,\u001b[0m \u001b[1;36m10\u001b[0m\u001b[1;33m)\u001b[0m\u001b[1;33m\u001b[0m\u001b[1;33m\u001b[0m\u001b[0m\n",
      "\u001b[1;32m~\\AppData\\Local\\Temp\\ipykernel_18780\\2269535098.py\u001b[0m in \u001b[0;36m?\u001b[1;34m(x_train, y_train, weights, biases, learning_rate, epochs)\u001b[0m\n\u001b[0;32m    147\u001b[0m     \u001b[1;32mfor\u001b[0m \u001b[0mi\u001b[0m \u001b[1;32min\u001b[0m \u001b[0mrange\u001b[0m\u001b[1;33m(\u001b[0m\u001b[0mepochs\u001b[0m\u001b[1;33m)\u001b[0m\u001b[1;33m:\u001b[0m\u001b[1;33m\u001b[0m\u001b[1;33m\u001b[0m\u001b[0m\n\u001b[0;32m    148\u001b[0m         \u001b[1;32mfor\u001b[0m \u001b[0mj\u001b[0m \u001b[1;32min\u001b[0m \u001b[0mrange\u001b[0m\u001b[1;33m(\u001b[0m\u001b[0mlen\u001b[0m\u001b[1;33m(\u001b[0m\u001b[0mx_train\u001b[0m\u001b[1;33m)\u001b[0m\u001b[1;33m)\u001b[0m\u001b[1;33m:\u001b[0m\u001b[1;33m\u001b[0m\u001b[1;33m\u001b[0m\u001b[0m\n\u001b[0;32m    149\u001b[0m             \u001b[0mx_train_row\u001b[0m \u001b[1;33m=\u001b[0m \u001b[0mx_train\u001b[0m\u001b[1;33m[\u001b[0m\u001b[0mj\u001b[0m\u001b[1;33m]\u001b[0m\u001b[1;33m\u001b[0m\u001b[1;33m\u001b[0m\u001b[0m\n\u001b[0;32m    150\u001b[0m             \u001b[0my_train_row\u001b[0m \u001b[1;33m=\u001b[0m \u001b[0my_train\u001b[0m\u001b[1;33m[\u001b[0m\u001b[0mj\u001b[0m\u001b[1;33m]\u001b[0m\u001b[1;33m\u001b[0m\u001b[1;33m\u001b[0m\u001b[0m\n\u001b[1;32m--> 151\u001b[1;33m             weights, biases, loss = train(\n\u001b[0m\u001b[0;32m    152\u001b[0m                 \u001b[0mx_train_row\u001b[0m\u001b[1;33m,\u001b[0m \u001b[0my_train_row\u001b[0m\u001b[1;33m,\u001b[0m \u001b[0mweights\u001b[0m\u001b[1;33m,\u001b[0m \u001b[0mbiases\u001b[0m\u001b[1;33m,\u001b[0m \u001b[0mlearning_rate\u001b[0m\u001b[1;33m\u001b[0m\u001b[1;33m\u001b[0m\u001b[0m\n\u001b[0;32m    153\u001b[0m             )\n\u001b[0;32m    154\u001b[0m \u001b[1;33m\u001b[0m\u001b[0m\n",
      "\u001b[1;32m~\\AppData\\Local\\Temp\\ipykernel_18780\\2269535098.py\u001b[0m in \u001b[0;36m?\u001b[1;34m(x_train, y_train, weights, biases, learning_rate)\u001b[0m\n\u001b[0;32m     53\u001b[0m \u001b[1;33m\u001b[0m\u001b[0m\n\u001b[0;32m     54\u001b[0m         \u001b[1;31m# J --> y_pred --> weighted_sum_activation --> w[output] ( affected by the following )\u001b[0m\u001b[1;33m\u001b[0m\u001b[1;33m\u001b[0m\u001b[0m\n\u001b[0;32m     55\u001b[0m         \u001b[1;31m# dJ_dw[output] = d(J)_d(y_pred) * d(y_pred)_d(weighted_sum_activation) * d(weighted_sum_activation)_d(w[output])\u001b[0m\u001b[1;33m\u001b[0m\u001b[1;33m\u001b[0m\u001b[0m\n\u001b[0;32m     56\u001b[0m \u001b[1;33m\u001b[0m\u001b[0m\n\u001b[1;32m---> 57\u001b[1;33m         \u001b[0mJ\u001b[0m \u001b[1;33m=\u001b[0m \u001b[1;33m-\u001b[0m\u001b[0my_true\u001b[0m \u001b[1;33m*\u001b[0m \u001b[0mtf\u001b[0m\u001b[1;33m.\u001b[0m\u001b[0mmath\u001b[0m\u001b[1;33m.\u001b[0m\u001b[0mlog\u001b[0m\u001b[1;33m(\u001b[0m\u001b[0my_pred\u001b[0m\u001b[1;33m)\u001b[0m \u001b[1;33m-\u001b[0m \u001b[1;33m(\u001b[0m\u001b[1;36m1\u001b[0m \u001b[1;33m-\u001b[0m \u001b[0my_true\u001b[0m\u001b[1;33m)\u001b[0m \u001b[1;33m*\u001b[0m \u001b[0mtf\u001b[0m\u001b[1;33m.\u001b[0m\u001b[0mmath\u001b[0m\u001b[1;33m.\u001b[0m\u001b[0mlog\u001b[0m\u001b[1;33m(\u001b[0m\u001b[1;36m1\u001b[0m \u001b[1;33m-\u001b[0m \u001b[0my_pred\u001b[0m\u001b[1;33m)\u001b[0m\u001b[1;33m\u001b[0m\u001b[1;33m\u001b[0m\u001b[0m\n\u001b[0m\u001b[0;32m     58\u001b[0m         \u001b[0mdJ_dy_pred\u001b[0m \u001b[1;33m=\u001b[0m \u001b[0mt\u001b[0m\u001b[1;33m.\u001b[0m\u001b[0mgradient\u001b[0m\u001b[1;33m(\u001b[0m\u001b[0mJ\u001b[0m\u001b[1;33m,\u001b[0m \u001b[0my_pred\u001b[0m\u001b[1;33m)\u001b[0m\u001b[1;33m\u001b[0m\u001b[1;33m\u001b[0m\u001b[0m\n\u001b[0;32m     59\u001b[0m         \u001b[1;31m# print(\"dJ_dy_pred: \", dJ_dy_pred)\u001b[0m\u001b[1;33m\u001b[0m\u001b[1;33m\u001b[0m\u001b[0m\n\u001b[0;32m     60\u001b[0m \u001b[1;33m\u001b[0m\u001b[0m\n",
      "\u001b[1;32mc:\\Users\\kck03\\miniconda3\\lib\\site-packages\\tensorflow\\python\\util\\traceback_utils.py\u001b[0m in \u001b[0;36m?\u001b[1;34m(*args, **kwargs)\u001b[0m\n\u001b[0;32m    151\u001b[0m     \u001b[1;32mexcept\u001b[0m \u001b[0mException\u001b[0m \u001b[1;32mas\u001b[0m \u001b[0me\u001b[0m\u001b[1;33m:\u001b[0m\u001b[1;33m\u001b[0m\u001b[1;33m\u001b[0m\u001b[0m\n\u001b[0;32m    152\u001b[0m       \u001b[0mfiltered_tb\u001b[0m \u001b[1;33m=\u001b[0m \u001b[0m_process_traceback_frames\u001b[0m\u001b[1;33m(\u001b[0m\u001b[0me\u001b[0m\u001b[1;33m.\u001b[0m\u001b[0m__traceback__\u001b[0m\u001b[1;33m)\u001b[0m\u001b[1;33m\u001b[0m\u001b[1;33m\u001b[0m\u001b[0m\n\u001b[0;32m    153\u001b[0m       \u001b[1;32mraise\u001b[0m \u001b[0me\u001b[0m\u001b[1;33m.\u001b[0m\u001b[0mwith_traceback\u001b[0m\u001b[1;33m(\u001b[0m\u001b[0mfiltered_tb\u001b[0m\u001b[1;33m)\u001b[0m \u001b[1;32mfrom\u001b[0m \u001b[1;32mNone\u001b[0m\u001b[1;33m\u001b[0m\u001b[1;33m\u001b[0m\u001b[0m\n\u001b[0;32m    154\u001b[0m     \u001b[1;32mfinally\u001b[0m\u001b[1;33m:\u001b[0m\u001b[1;33m\u001b[0m\u001b[1;33m\u001b[0m\u001b[0m\n\u001b[1;32m--> 155\u001b[1;33m       \u001b[1;32mdel\u001b[0m \u001b[0mfiltered_tb\u001b[0m\u001b[1;33m\u001b[0m\u001b[1;33m\u001b[0m\u001b[0m\n\u001b[0m",
      "\u001b[1;32mc:\\Users\\kck03\\miniconda3\\lib\\site-packages\\tensorflow\\python\\framework\\override_binary_operator.py\u001b[0m in \u001b[0;36m?\u001b[1;34m(x, y)\u001b[0m\n\u001b[0;32m    110\u001b[0m         \u001b[1;31m# TODO(b/178860388): Figure out why binary_op_wrapper and\u001b[0m\u001b[1;33m\u001b[0m\u001b[1;33m\u001b[0m\u001b[0m\n\u001b[0;32m    111\u001b[0m         \u001b[1;31m#   r_binary_op_wrapper use different force_same_dtype values.\u001b[0m\u001b[1;33m\u001b[0m\u001b[1;33m\u001b[0m\u001b[0m\n\u001b[0;32m    112\u001b[0m         \u001b[0mx\u001b[0m\u001b[1;33m,\u001b[0m \u001b[0my\u001b[0m \u001b[1;33m=\u001b[0m \u001b[0mmaybe_promote_tensors\u001b[0m\u001b[1;33m(\u001b[0m\u001b[0mx\u001b[0m\u001b[1;33m,\u001b[0m \u001b[0my\u001b[0m\u001b[1;33m)\u001b[0m\u001b[1;33m\u001b[0m\u001b[1;33m\u001b[0m\u001b[0m\n\u001b[0;32m    113\u001b[0m         \u001b[1;32mreturn\u001b[0m \u001b[0mfunc\u001b[0m\u001b[1;33m(\u001b[0m\u001b[0mx\u001b[0m\u001b[1;33m,\u001b[0m \u001b[0my\u001b[0m\u001b[1;33m,\u001b[0m \u001b[0mname\u001b[0m\u001b[1;33m=\u001b[0m\u001b[0mname\u001b[0m\u001b[1;33m)\u001b[0m\u001b[1;33m\u001b[0m\u001b[1;33m\u001b[0m\u001b[0m\n\u001b[1;32m--> 114\u001b[1;33m       \u001b[1;32mexcept\u001b[0m \u001b[1;33m(\u001b[0m\u001b[0mTypeError\u001b[0m\u001b[1;33m,\u001b[0m \u001b[0mValueError\u001b[0m\u001b[1;33m)\u001b[0m \u001b[1;32mas\u001b[0m \u001b[0me\u001b[0m\u001b[1;33m:\u001b[0m\u001b[1;33m\u001b[0m\u001b[1;33m\u001b[0m\u001b[0m\n\u001b[0m\u001b[0;32m    115\u001b[0m         \u001b[1;31m# Even if dispatching the op failed, the RHS may be a tensor aware\u001b[0m\u001b[1;33m\u001b[0m\u001b[1;33m\u001b[0m\u001b[0m\n\u001b[0;32m    116\u001b[0m         \u001b[1;31m# object that can implement the operator with knowledge of itself\u001b[0m\u001b[1;33m\u001b[0m\u001b[1;33m\u001b[0m\u001b[0m\n\u001b[0;32m    117\u001b[0m         \u001b[1;31m# and the tensor.\u001b[0m\u001b[1;33m\u001b[0m\u001b[1;33m\u001b[0m\u001b[0m\n",
      "\u001b[1;32mc:\\Users\\kck03\\miniconda3\\lib\\site-packages\\tensorflow\\python\\ops\\tensor_math_operator_overrides.py\u001b[0m in \u001b[0;36m?\u001b[1;34m(x, y, name)\u001b[0m\n\u001b[0;32m     79\u001b[0m \u001b[1;32mdef\u001b[0m \u001b[0m_subtract_factory\u001b[0m\u001b[1;33m(\u001b[0m\u001b[0mx\u001b[0m\u001b[1;33m,\u001b[0m \u001b[0my\u001b[0m\u001b[1;33m,\u001b[0m \u001b[0mname\u001b[0m\u001b[1;33m=\u001b[0m\u001b[1;32mNone\u001b[0m\u001b[1;33m)\u001b[0m\u001b[1;33m:\u001b[0m\u001b[1;33m\u001b[0m\u001b[1;33m\u001b[0m\u001b[0m\n\u001b[0;32m     80\u001b[0m   \u001b[1;32mfrom\u001b[0m \u001b[0mtensorflow\u001b[0m\u001b[1;33m.\u001b[0m\u001b[0mpython\u001b[0m\u001b[1;33m.\u001b[0m\u001b[0mops\u001b[0m \u001b[1;32mimport\u001b[0m \u001b[0mmath_ops\u001b[0m\u001b[1;33m\u001b[0m\u001b[1;33m\u001b[0m\u001b[0m\n\u001b[0;32m     81\u001b[0m \u001b[1;33m\u001b[0m\u001b[0m\n\u001b[1;32m---> 82\u001b[1;33m   \u001b[1;32mreturn\u001b[0m \u001b[0mmath_ops\u001b[0m\u001b[1;33m.\u001b[0m\u001b[0msubtract\u001b[0m\u001b[1;33m(\u001b[0m\u001b[0mx\u001b[0m\u001b[1;33m,\u001b[0m \u001b[0my\u001b[0m\u001b[1;33m,\u001b[0m \u001b[0mname\u001b[0m\u001b[1;33m=\u001b[0m\u001b[0mname\u001b[0m\u001b[1;33m)\u001b[0m\u001b[1;33m\u001b[0m\u001b[1;33m\u001b[0m\u001b[0m\n\u001b[0m",
      "\u001b[1;32mc:\\Users\\kck03\\miniconda3\\lib\\site-packages\\tensorflow\\python\\util\\traceback_utils.py\u001b[0m in \u001b[0;36m?\u001b[1;34m(*args, **kwargs)\u001b[0m\n\u001b[0;32m    151\u001b[0m     \u001b[1;32mexcept\u001b[0m \u001b[0mException\u001b[0m \u001b[1;32mas\u001b[0m \u001b[0me\u001b[0m\u001b[1;33m:\u001b[0m\u001b[1;33m\u001b[0m\u001b[1;33m\u001b[0m\u001b[0m\n\u001b[0;32m    152\u001b[0m       \u001b[0mfiltered_tb\u001b[0m \u001b[1;33m=\u001b[0m \u001b[0m_process_traceback_frames\u001b[0m\u001b[1;33m(\u001b[0m\u001b[0me\u001b[0m\u001b[1;33m.\u001b[0m\u001b[0m__traceback__\u001b[0m\u001b[1;33m)\u001b[0m\u001b[1;33m\u001b[0m\u001b[1;33m\u001b[0m\u001b[0m\n\u001b[0;32m    153\u001b[0m       \u001b[1;32mraise\u001b[0m \u001b[0me\u001b[0m\u001b[1;33m.\u001b[0m\u001b[0mwith_traceback\u001b[0m\u001b[1;33m(\u001b[0m\u001b[0mfiltered_tb\u001b[0m\u001b[1;33m)\u001b[0m \u001b[1;32mfrom\u001b[0m \u001b[1;32mNone\u001b[0m\u001b[1;33m\u001b[0m\u001b[1;33m\u001b[0m\u001b[0m\n\u001b[0;32m    154\u001b[0m     \u001b[1;32mfinally\u001b[0m\u001b[1;33m:\u001b[0m\u001b[1;33m\u001b[0m\u001b[1;33m\u001b[0m\u001b[0m\n\u001b[1;32m--> 155\u001b[1;33m       \u001b[1;32mdel\u001b[0m \u001b[0mfiltered_tb\u001b[0m\u001b[1;33m\u001b[0m\u001b[1;33m\u001b[0m\u001b[0m\n\u001b[0m",
      "\u001b[1;32mc:\\Users\\kck03\\miniconda3\\lib\\site-packages\\tensorflow\\python\\util\\dispatch.py\u001b[0m in \u001b[0;36m?\u001b[1;34m(*args, **kwargs)\u001b[0m\n\u001b[0;32m   1257\u001b[0m \u001b[1;33m\u001b[0m\u001b[0m\n\u001b[0;32m   1258\u001b[0m       \u001b[1;31m# Fallback dispatch system (dispatch v1):\u001b[0m\u001b[1;33m\u001b[0m\u001b[1;33m\u001b[0m\u001b[0m\n\u001b[0;32m   1259\u001b[0m       \u001b[1;32mtry\u001b[0m\u001b[1;33m:\u001b[0m\u001b[1;33m\u001b[0m\u001b[1;33m\u001b[0m\u001b[0m\n\u001b[0;32m   1260\u001b[0m         \u001b[1;32mreturn\u001b[0m \u001b[0mdispatch_target\u001b[0m\u001b[1;33m(\u001b[0m\u001b[1;33m*\u001b[0m\u001b[0margs\u001b[0m\u001b[1;33m,\u001b[0m \u001b[1;33m**\u001b[0m\u001b[0mkwargs\u001b[0m\u001b[1;33m)\u001b[0m\u001b[1;33m\u001b[0m\u001b[1;33m\u001b[0m\u001b[0m\n\u001b[1;32m-> 1261\u001b[1;33m       \u001b[1;32mexcept\u001b[0m \u001b[1;33m(\u001b[0m\u001b[0mTypeError\u001b[0m\u001b[1;33m,\u001b[0m \u001b[0mValueError\u001b[0m\u001b[1;33m)\u001b[0m\u001b[1;33m:\u001b[0m\u001b[1;33m\u001b[0m\u001b[1;33m\u001b[0m\u001b[0m\n\u001b[0m\u001b[0;32m   1262\u001b[0m         \u001b[1;31m# Note: convert_to_eager_tensor currently raises a ValueError, not a\u001b[0m\u001b[1;33m\u001b[0m\u001b[1;33m\u001b[0m\u001b[0m\n\u001b[0;32m   1263\u001b[0m         \u001b[1;31m# TypeError, when given unexpected types.  So we need to catch both.\u001b[0m\u001b[1;33m\u001b[0m\u001b[1;33m\u001b[0m\u001b[0m\n\u001b[0;32m   1264\u001b[0m         \u001b[0mresult\u001b[0m \u001b[1;33m=\u001b[0m \u001b[0mdispatch\u001b[0m\u001b[1;33m(\u001b[0m\u001b[0mop_dispatch_handler\u001b[0m\u001b[1;33m,\u001b[0m \u001b[0margs\u001b[0m\u001b[1;33m,\u001b[0m \u001b[0mkwargs\u001b[0m\u001b[1;33m)\u001b[0m\u001b[1;33m\u001b[0m\u001b[1;33m\u001b[0m\u001b[0m\n",
      "\u001b[1;32mc:\\Users\\kck03\\miniconda3\\lib\\site-packages\\tensorflow\\python\\ops\\math_ops.py\u001b[0m in \u001b[0;36m?\u001b[1;34m(x, y, name)\u001b[0m\n\u001b[0;32m    539\u001b[0m \u001b[1;33m@\u001b[0m\u001b[0mtf_export\u001b[0m\u001b[1;33m(\u001b[0m\u001b[1;34m\"math.subtract\"\u001b[0m\u001b[1;33m,\u001b[0m \u001b[1;34m\"subtract\"\u001b[0m\u001b[1;33m)\u001b[0m\u001b[1;33m\u001b[0m\u001b[1;33m\u001b[0m\u001b[0m\n\u001b[0;32m    540\u001b[0m \u001b[1;33m@\u001b[0m\u001b[0mdispatch\u001b[0m\u001b[1;33m.\u001b[0m\u001b[0mregister_binary_elementwise_api\u001b[0m\u001b[1;33m\u001b[0m\u001b[1;33m\u001b[0m\u001b[0m\n\u001b[0;32m    541\u001b[0m \u001b[1;33m@\u001b[0m\u001b[0mdispatch\u001b[0m\u001b[1;33m.\u001b[0m\u001b[0madd_dispatch_support\u001b[0m\u001b[1;33m\u001b[0m\u001b[1;33m\u001b[0m\u001b[0m\n\u001b[0;32m    542\u001b[0m \u001b[1;32mdef\u001b[0m \u001b[0msubtract\u001b[0m\u001b[1;33m(\u001b[0m\u001b[0mx\u001b[0m\u001b[1;33m,\u001b[0m \u001b[0my\u001b[0m\u001b[1;33m,\u001b[0m \u001b[0mname\u001b[0m\u001b[1;33m=\u001b[0m\u001b[1;32mNone\u001b[0m\u001b[1;33m)\u001b[0m\u001b[1;33m:\u001b[0m\u001b[1;33m\u001b[0m\u001b[1;33m\u001b[0m\u001b[0m\n\u001b[1;32m--> 543\u001b[1;33m   \u001b[1;32mreturn\u001b[0m \u001b[0mgen_math_ops\u001b[0m\u001b[1;33m.\u001b[0m\u001b[0msub\u001b[0m\u001b[1;33m(\u001b[0m\u001b[0mx\u001b[0m\u001b[1;33m,\u001b[0m \u001b[0my\u001b[0m\u001b[1;33m,\u001b[0m \u001b[0mname\u001b[0m\u001b[1;33m)\u001b[0m\u001b[1;33m\u001b[0m\u001b[1;33m\u001b[0m\u001b[0m\n\u001b[0m",
      "\u001b[1;32mc:\\Users\\kck03\\miniconda3\\lib\\site-packages\\tensorflow\\python\\ops\\weak_tensor_ops.py\u001b[0m in \u001b[0;36m?\u001b[1;34m(*args, **kwargs)\u001b[0m\n\u001b[0;32m    140\u001b[0m   \u001b[1;32mdef\u001b[0m \u001b[0mwrapper\u001b[0m\u001b[1;33m(\u001b[0m\u001b[1;33m*\u001b[0m\u001b[0margs\u001b[0m\u001b[1;33m,\u001b[0m \u001b[1;33m**\u001b[0m\u001b[0mkwargs\u001b[0m\u001b[1;33m)\u001b[0m\u001b[1;33m:\u001b[0m\u001b[1;33m\u001b[0m\u001b[1;33m\u001b[0m\u001b[0m\n\u001b[0;32m    141\u001b[0m     \u001b[1;32mif\u001b[0m \u001b[1;32mnot\u001b[0m \u001b[0mops\u001b[0m\u001b[1;33m.\u001b[0m\u001b[0mis_auto_dtype_conversion_enabled\u001b[0m\u001b[1;33m(\u001b[0m\u001b[1;33m)\u001b[0m\u001b[1;33m:\u001b[0m\u001b[1;33m\u001b[0m\u001b[1;33m\u001b[0m\u001b[0m\n\u001b[1;32m--> 142\u001b[1;33m       \u001b[1;32mreturn\u001b[0m \u001b[0mop\u001b[0m\u001b[1;33m(\u001b[0m\u001b[1;33m*\u001b[0m\u001b[0margs\u001b[0m\u001b[1;33m,\u001b[0m \u001b[1;33m**\u001b[0m\u001b[0mkwargs\u001b[0m\u001b[1;33m)\u001b[0m\u001b[1;33m\u001b[0m\u001b[1;33m\u001b[0m\u001b[0m\n\u001b[0m\u001b[0;32m    143\u001b[0m     \u001b[0mbound_arguments\u001b[0m \u001b[1;33m=\u001b[0m \u001b[0msignature\u001b[0m\u001b[1;33m.\u001b[0m\u001b[0mbind\u001b[0m\u001b[1;33m(\u001b[0m\u001b[1;33m*\u001b[0m\u001b[0margs\u001b[0m\u001b[1;33m,\u001b[0m \u001b[1;33m**\u001b[0m\u001b[0mkwargs\u001b[0m\u001b[1;33m)\u001b[0m\u001b[1;33m\u001b[0m\u001b[1;33m\u001b[0m\u001b[0m\n\u001b[0;32m    144\u001b[0m     \u001b[0mbound_arguments\u001b[0m\u001b[1;33m.\u001b[0m\u001b[0mapply_defaults\u001b[0m\u001b[1;33m(\u001b[0m\u001b[1;33m)\u001b[0m\u001b[1;33m\u001b[0m\u001b[1;33m\u001b[0m\u001b[0m\n\u001b[0;32m    145\u001b[0m     \u001b[0mbound_kwargs\u001b[0m \u001b[1;33m=\u001b[0m \u001b[0mbound_arguments\u001b[0m\u001b[1;33m.\u001b[0m\u001b[0marguments\u001b[0m\u001b[1;33m\u001b[0m\u001b[1;33m\u001b[0m\u001b[0m\n",
      "\u001b[1;32mc:\\Users\\kck03\\miniconda3\\lib\\site-packages\\tensorflow\\python\\ops\\gen_math_ops.py\u001b[0m in \u001b[0;36m?\u001b[1;34m(x, y, name)\u001b[0m\n\u001b[0;32m  12304\u001b[0m         _ctx, \"Sub\", name, x, y)\n\u001b[0;32m  12305\u001b[0m       \u001b[1;32mreturn\u001b[0m \u001b[0m_result\u001b[0m\u001b[1;33m\u001b[0m\u001b[1;33m\u001b[0m\u001b[0m\n\u001b[0;32m  12306\u001b[0m     \u001b[1;32mexcept\u001b[0m \u001b[0m_core\u001b[0m\u001b[1;33m.\u001b[0m\u001b[0m_NotOkStatusException\u001b[0m \u001b[1;32mas\u001b[0m \u001b[0me\u001b[0m\u001b[1;33m:\u001b[0m\u001b[1;33m\u001b[0m\u001b[1;33m\u001b[0m\u001b[0m\n\u001b[0;32m  12307\u001b[0m       \u001b[0m_ops\u001b[0m\u001b[1;33m.\u001b[0m\u001b[0mraise_from_not_ok_status\u001b[0m\u001b[1;33m(\u001b[0m\u001b[0me\u001b[0m\u001b[1;33m,\u001b[0m \u001b[0mname\u001b[0m\u001b[1;33m)\u001b[0m\u001b[1;33m\u001b[0m\u001b[1;33m\u001b[0m\u001b[0m\n\u001b[1;32m> 12308\u001b[1;33m     \u001b[1;32mexcept\u001b[0m \u001b[0m_core\u001b[0m\u001b[1;33m.\u001b[0m\u001b[0m_FallbackException\u001b[0m\u001b[1;33m:\u001b[0m\u001b[1;33m\u001b[0m\u001b[1;33m\u001b[0m\u001b[0m\n\u001b[0m\u001b[0;32m  12309\u001b[0m       \u001b[1;32mpass\u001b[0m\u001b[1;33m\u001b[0m\u001b[1;33m\u001b[0m\u001b[0m\n\u001b[0;32m  12310\u001b[0m     \u001b[1;32mtry\u001b[0m\u001b[1;33m:\u001b[0m\u001b[1;33m\u001b[0m\u001b[1;33m\u001b[0m\u001b[0m\n\u001b[0;32m  12311\u001b[0m       return sub_eager_fallback(\n",
      "\u001b[1;31mKeyboardInterrupt\u001b[0m: "
     ]
    }
   ],
   "source": [
    "# Train the model\n",
    "weights, biases, train_losses = fit(norm_x_train, y_train, weights, biases, learning_rate, 10)\n",
    "\n",
    "# Validate the model\n",
    "_,_, valid_losses = fit(norm_x_valid, y_valid, weights, biases, learning_rate, 10)"
   ]
  },
  {
   "cell_type": "markdown",
   "id": "45c41885",
   "metadata": {},
   "source": [
    "#### Display the training loss and validation loss against epoch graph"
   ]
  },
  {
   "cell_type": "code",
   "execution_count": null,
   "id": "47f05472",
   "metadata": {},
   "outputs": [],
   "source": [
    "# display training loss and validation loss against epoch graph\n",
    "\n"
   ]
  },
  {
   "cell_type": "markdown",
   "id": "0c0b4c38",
   "metadata": {},
   "source": [
    "#### Predict the test set"
   ]
  },
  {
   "cell_type": "code",
   "execution_count": null,
   "id": "a84f73b1",
   "metadata": {},
   "outputs": [],
   "source": []
  },
  {
   "cell_type": "markdown",
   "id": "20d715ef",
   "metadata": {},
   "source": [
    "#### Display the confusion matrix and the classification report."
   ]
  },
  {
   "cell_type": "code",
   "execution_count": null,
   "id": "c35deeb3",
   "metadata": {},
   "outputs": [],
   "source": []
  }
 ],
 "metadata": {
  "kernelspec": {
   "display_name": "Python 3 (ipykernel)",
   "language": "python",
   "name": "python3"
  },
  "language_info": {
   "codemirror_mode": {
    "name": "ipython",
    "version": 3
   },
   "file_extension": ".py",
   "mimetype": "text/x-python",
   "name": "python",
   "nbconvert_exporter": "python",
   "pygments_lexer": "ipython3",
   "version": "3.10.10"
  }
 },
 "nbformat": 4,
 "nbformat_minor": 5
}
